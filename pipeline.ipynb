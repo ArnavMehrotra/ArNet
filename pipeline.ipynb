{
  "nbformat": 4,
  "nbformat_minor": 0,
  "metadata": {
    "colab": {
      "provenance": [],
      "machine_shape": "hm",
      "gpuType": "L4",
      "authorship_tag": "ABX9TyMuwyfuAMcxA2ZosWm/F5Gj",
      "include_colab_link": true
    },
    "kernelspec": {
      "name": "python3",
      "display_name": "Python 3"
    },
    "language_info": {
      "name": "python"
    },
    "accelerator": "GPU"
  },
  "cells": [
    {
      "cell_type": "markdown",
      "metadata": {
        "id": "view-in-github",
        "colab_type": "text"
      },
      "source": [
        "<a href=\"https://colab.research.google.com/github/ArnavMehrotra/ArNet/blob/main/pipeline.ipynb\" target=\"_parent\"><img src=\"https://colab.research.google.com/assets/colab-badge.svg\" alt=\"Open In Colab\"/></a>"
      ]
    },
    {
      "cell_type": "code",
      "source": [
        "%%shell\n",
        "if [ ! -d ArNet ]; then\n",
        "  git clone https://github.com/ArnavMehrotra/ArNet\n",
        "fi"
      ],
      "metadata": {
        "colab": {
          "base_uri": "https://localhost:8080/"
        },
        "id": "qpyZo6ila24p",
        "outputId": "e4dd9ae1-3c05-4078-fe72-df98985a5dfe"
      },
      "execution_count": 7,
      "outputs": [
        {
          "output_type": "execute_result",
          "data": {
            "text/plain": []
          },
          "metadata": {},
          "execution_count": 7
        }
      ]
    },
    {
      "cell_type": "code",
      "source": [
        "import time\n",
        "import ctypes\n",
        "import numpy as np\n",
        "import os"
      ],
      "metadata": {
        "id": "WKg6NOaFzgIu"
      },
      "execution_count": 8,
      "outputs": []
    },
    {
      "cell_type": "markdown",
      "source": [],
      "metadata": {
        "id": "7ZAvoAXddHJF"
      }
    },
    {
      "cell_type": "code",
      "source": [
        "%%shell\n",
        "cd ArNet/\n",
        "git pull"
      ],
      "metadata": {
        "colab": {
          "base_uri": "https://localhost:8080/"
        },
        "id": "wjlj2_BWhUEK",
        "outputId": "1283937a-f3ce-4b76-c980-c2c036fe336d"
      },
      "execution_count": 9,
      "outputs": [
        {
          "output_type": "stream",
          "name": "stdout",
          "text": [
            "remote: Enumerating objects: 5, done.\u001b[K\n",
            "remote: Counting objects:  20% (1/5)\u001b[K\rremote: Counting objects:  40% (2/5)\u001b[K\rremote: Counting objects:  60% (3/5)\u001b[K\rremote: Counting objects:  80% (4/5)\u001b[K\rremote: Counting objects: 100% (5/5)\u001b[K\rremote: Counting objects: 100% (5/5), done.\u001b[K\n",
            "remote: Compressing objects: 100% (1/1)\u001b[K\rremote: Compressing objects: 100% (1/1), done.\u001b[K\n",
            "remote: Total 3 (delta 2), reused 3 (delta 2), pack-reused 0 (from 0)\u001b[K\n",
            "Unpacking objects:  33% (1/3)\rUnpacking objects:  66% (2/3)\rUnpacking objects: 100% (3/3)\rUnpacking objects: 100% (3/3), 263 bytes | 263.00 KiB/s, done.\n",
            "From https://github.com/ArnavMehrotra/ArNet\n",
            "   1212b29..9e1aab8  main       -> origin/main\n",
            "Updating 1212b29..9e1aab8\n",
            "Fast-forward\n",
            " optest.py | 2 \u001b[32m+\u001b[m\u001b[31m-\u001b[m\n",
            " 1 file changed, 1 insertion(+), 1 deletion(-)\n"
          ]
        },
        {
          "output_type": "execute_result",
          "data": {
            "text/plain": []
          },
          "metadata": {},
          "execution_count": 9
        }
      ]
    },
    {
      "cell_type": "code",
      "source": [
        "!rm -rf *.so\n",
        "so_name = f\"ops_{int(time.time())}.so\"\n",
        "!nvcc -Xcompiler -fPIC -shared -gencode arch=compute_80,code=sm_80 -o {so_name} ArNet/launch.cu ArNet/kernels.cu\n",
        "LIB = ctypes.CDLL(f\"./{so_name}\")"
      ],
      "metadata": {
        "id": "c8C6N1fku3GG"
      },
      "execution_count": 10,
      "outputs": []
    },
    {
      "cell_type": "code",
      "source": [
        "import sys\n",
        "sys.path.append(\"./ArNet\")\n",
        "\n",
        "from optest import run_tests\n",
        "\n",
        "run_tests(LIB)"
      ],
      "metadata": {
        "colab": {
          "base_uri": "https://localhost:8080/"
        },
        "id": "DmVkF5LY1iE5",
        "outputId": "835ff5d8-5225-4c5f-e9a2-9a9e82514094"
      },
      "execution_count": 11,
      "outputs": [
        {
          "output_type": "stream",
          "name": "stdout",
          "text": [
            "Total time for numpy: 363.907 ms\n",
            "Total time for young arn: 372.243 ms\n",
            "Total time for young arn (optimized): 621.249 ms\n",
            "input 1: 7373x2778 matrix\n",
            "input 2: 2778x6439 matrix\n",
            "output: 7373x6439 matrix\n",
            "input 1: 6704x8334 matrix\n",
            "input 2: 6704x8334 matrix\n",
            "output: 6704x8334 matrix\n",
            "input: 5495x4850 matrix\n",
            "input 1: 4193x5548 matrix\n",
            "input 2: 1x5548 matrix\n",
            "output: 4193x5548 matrix\n",
            "All tests passed!\n"
          ]
        }
      ]
    },
    {
      "cell_type": "code",
      "source": [
        "# lr = 0.001\n",
        "# epochs = 100\n",
        "\n",
        "# J, D, H, K = 64, 32, 16, 4  # batch size, input dim, hidden dim, output classes\n",
        "\n",
        "# X = np.random.randn(J, D).astype(np.float32)\n",
        "# Y = np.random.randint(0, K, size=(J, 1)).astype(np.uint32)\n",
        "\n",
        "# W1 = np.random.randn(D, H).astype(np.float32) * 0.01\n",
        "# b1 = np.zeros((H,), dtype=np.float32)\n",
        "\n",
        "# W2 = np.random.randn(H, K).astype(np.float32) * 0.01\n",
        "# b2 = np.zeros((K,), dtype=np.float32)\n",
        "# for i in range(epochs):\n",
        "#   #forward pass\n",
        "#   M1 = gemm(X, W1)\n",
        "#   Z1 = biasAdd(M1, b1)\n",
        "#   A1 = relu(Z1)\n",
        "#   M2 = gemm(A1, W2)\n",
        "#   Z2 = biasAdd(M2, b2)\n",
        "#   A2 = softmax(Z2)\n",
        "#   probs = A2[np.arange(J), Y.squeeze()]\n",
        "#   loss = -np.log(probs + 1e-8).mean()\n",
        "\n",
        "#   print(loss)\n",
        "\n",
        "#   #backprop\n",
        "#   dZ2 = gradient(A2, Y)\n",
        "#   dW2 = gemm(A1.T, dZ2)\n",
        "#   db2 = sum(dZ2)\n",
        "#   dA1 = gemm(dZ2, W2.T)\n",
        "#   dZ1 = dA1 * (Z1 > 0)\n",
        "#   dW1 = gemm(X.T, dZ1)\n",
        "#   db1 = sum(dZ1)\n",
        "\n",
        "#   #update weights\n",
        "#   W1 -= lr * dW1\n",
        "#   b1 -= lr * db1\n",
        "\n",
        "#   W2 -= lr * dW2\n",
        "#   b2 -= lr * db2"
      ],
      "metadata": {
        "id": "kUJ79u2koYg6"
      },
      "execution_count": 12,
      "outputs": []
    }
  ]
}